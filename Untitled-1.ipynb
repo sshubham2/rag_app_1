{
 "cells": [
  {
   "cell_type": "code",
   "execution_count": 31,
   "metadata": {},
   "outputs": [],
   "source": [
    "import requests\n",
    "import json\n",
    "from datetime import datetime, date"
   ]
  },
  {
   "cell_type": "code",
   "execution_count": 34,
   "metadata": {},
   "outputs": [],
   "source": [
    "response = requests.get('http://api.openweathermap.org/geo/1.0/direct?q=Mumbai&limit=1&appid=d00ea0c8bd78d2bd3ca20dcd340c4023')"
   ]
  },
  {
   "cell_type": "code",
   "execution_count": 39,
   "metadata": {},
   "outputs": [
    {
     "data": {
      "text/plain": [
       "{'name': 'Mumbai',\n",
       " 'local_names': {'oc': 'Mumbai',\n",
       "  'fr': 'Bombay',\n",
       "  'pa': 'ਮੁੰਬਈ',\n",
       "  'kn': 'ಮುಂಬೈ',\n",
       "  'pl': 'Mumbaj',\n",
       "  'ur': 'ممبئی',\n",
       "  'th': 'มุมไบ',\n",
       "  'hi': 'मुंबई',\n",
       "  'fa': 'مومبای',\n",
       "  'sk': 'Bombaj',\n",
       "  'es': 'Bombay',\n",
       "  'eo': 'Mumbajo',\n",
       "  'az': 'Mumbay',\n",
       "  'sd': 'ممبئي',\n",
       "  'or': 'ମୁମ୍ବାଇ',\n",
       "  'en': 'Mumbai',\n",
       "  'ru': 'Мумбаи',\n",
       "  'io': 'Mumbai',\n",
       "  'yi': 'מומביי',\n",
       "  'el': 'Μουμπάι',\n",
       "  'ja': 'ムンバイ',\n",
       "  'ta': 'மும்பை',\n",
       "  'ia': 'Mumbai',\n",
       "  'ka': 'მუმბაი',\n",
       "  'he': 'מומבאי',\n",
       "  'cs': 'Bombaj',\n",
       "  'lt': 'Mumbajus',\n",
       "  'ks': 'بَمبَے',\n",
       "  'ar': 'مومباي',\n",
       "  'ml': 'മുംബൈ',\n",
       "  'te': 'ముంబై',\n",
       "  'de': 'Mumbai',\n",
       "  'bn': 'মুম্বই',\n",
       "  'ko': '뭄바이',\n",
       "  'gu': 'મુંબઈ',\n",
       "  'ps': 'ممبای',\n",
       "  'zh': '孟买',\n",
       "  'uk': 'Мумбаї',\n",
       "  'sr': 'Мумбај',\n",
       "  'mr': 'मुंबई',\n",
       "  'si': 'මුම්බායි'},\n",
       " 'lat': 19.0785451,\n",
       " 'lon': 72.878176,\n",
       " 'country': 'IN',\n",
       " 'state': 'Maharashtra'}"
      ]
     },
     "execution_count": 39,
     "metadata": {},
     "output_type": "execute_result"
    }
   ],
   "source": [
    "response.json()[0]"
   ]
  },
  {
   "cell_type": "code",
   "execution_count": 23,
   "metadata": {},
   "outputs": [],
   "source": [
    "res_txt = json.loads(response.text)"
   ]
  },
  {
   "cell_type": "code",
   "execution_count": 28,
   "metadata": {},
   "outputs": [
    {
     "data": {
      "text/plain": [
       "72.878176"
      ]
     },
     "execution_count": 28,
     "metadata": {},
     "output_type": "execute_result"
    }
   ],
   "source": [
    "res_txt[0]['lon']"
   ]
  },
  {
   "cell_type": "code",
   "execution_count": 30,
   "metadata": {},
   "outputs": [],
   "source": [
    "def get_lat_lon(city_name):\n",
    "    response = requests.get(f'http://api.openweathermap.org/geo/1.0/direct?q={city_name}&limit=1&appid=d00ea0c8bd78d2bd3ca20dcd340c4023')\n",
    "    data = response.json()[0]\n",
    "    lat = data['lat']\n",
    "    lon = data['lon']\n",
    "    return lat, lon"
   ]
  },
  {
   "cell_type": "code",
   "execution_count": 33,
   "metadata": {},
   "outputs": [
    {
     "data": {
      "text/plain": [
       "'1721845800'"
      ]
     },
     "execution_count": 33,
     "metadata": {},
     "output_type": "execute_result"
    }
   ],
   "source": [
    "date.today().strftime('%s')"
   ]
  },
  {
   "cell_type": "code",
   "execution_count": 56,
   "metadata": {},
   "outputs": [],
   "source": [
    "city_name = 'Mumbai'\n",
    "lat, lon = get_lat_lon(city_name)\n",
    "_date = date.today().strftime('%s')\n",
    "api_key = '5f9bdf5328a29dbc7fa5bf92bb39a015'"
   ]
  },
  {
   "cell_type": "code",
   "execution_count": 67,
   "metadata": {},
   "outputs": [],
   "source": [
    "response = requests.get('https://api.openweathermap.org/data/3.0/onecall/timemachine?lat={lat}&lon=-{lat}&dt={_date}&appid={api_key}')"
   ]
  },
  {
   "cell_type": "code",
   "execution_count": 68,
   "metadata": {},
   "outputs": [
    {
     "data": {
      "text/plain": [
       "401"
      ]
     },
     "execution_count": 68,
     "metadata": {},
     "output_type": "execute_result"
    }
   ],
   "source": [
    "response.status_code"
   ]
  },
  {
   "cell_type": "code",
   "execution_count": null,
   "metadata": {},
   "outputs": [],
   "source": [
    "def get_weather_info(city_name : str, _date : date):\n",
    "    city_name = 'Mumbai'\n",
    "    lat, lon = get_lat_lon(city_name)\n",
    "    _date = _date.strftime('%s')\n",
    "    api_key = 'd00ea0c8bd78d2bd3ca20dcd340c4023'\n",
    "    response = requests.get('https://api.openweathermap.org/data/3.0/onecall/timemachine?lat={lat}&lon={lon}&dt={_date}&appid={api_key}')"
   ]
  }
 ],
 "metadata": {
  "kernelspec": {
   "display_name": ".venv",
   "language": "python",
   "name": "python3"
  },
  "language_info": {
   "codemirror_mode": {
    "name": "ipython",
    "version": 3
   },
   "file_extension": ".py",
   "mimetype": "text/x-python",
   "name": "python",
   "nbconvert_exporter": "python",
   "pygments_lexer": "ipython3",
   "version": "3.10.12"
  }
 },
 "nbformat": 4,
 "nbformat_minor": 2
}
